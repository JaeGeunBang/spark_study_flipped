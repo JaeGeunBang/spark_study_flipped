{
 "cells": [
  {
   "cell_type": "code",
   "execution_count": 1,
   "metadata": {},
   "outputs": [
    {
     "data": {
      "text/plain": [
       "sc = org.apache.spark.sql.SparkSession@71822941\n"
      ]
     },
     "metadata": {},
     "output_type": "display_data"
    },
    {
     "data": {
      "text/plain": [
       "2.4.3"
      ]
     },
     "execution_count": 1,
     "metadata": {},
     "output_type": "execute_result"
    }
   ],
   "source": [
    "import org.apache.spark.sql.SparkSession\n",
    "val sc = SparkSession.builder().getOrCreate()\n",
    "sc.version"
   ]
  },
  {
   "cell_type": "markdown",
   "metadata": {},
   "source": [
    "### 8. 조인 표현식\n",
    "\n",
    "왼쪽, 오른쪽 데이터셋에 있는 하나 이상의 키값을 비교하고 왼쪽 데이터셋과 오른쪽 데이터셋의 결합 여부를 결정함 <br>"
   ]
  },
  {
   "cell_type": "code",
   "execution_count": 5,
   "metadata": {},
   "outputs": [
    {
     "data": {
      "text/plain": [
       "person = [id: int, name: string ... 2 more fields]\n",
       "graduateProgram = [id: int, degree: string ... 2 more fields]\n",
       "sparkStatus = [id: int, status: string]\n"
      ]
     },
     "metadata": {},
     "output_type": "display_data"
    },
    {
     "data": {
      "text/plain": [
       "[id: int, status: string]"
      ]
     },
     "execution_count": 5,
     "metadata": {},
     "output_type": "execute_result"
    }
   ],
   "source": [
    "val person = Seq (\n",
    "    (0, \"Bill Chambers\", 0, Seq(100)),\n",
    "    (1, \"Matei Zaharia\", 1, Seq(500, 250, 100)),\n",
    "    (2, \"Michael Armbrust\", 1, Seq(250, 100))\n",
    ").toDF(\"id\", \"name\", \"graduate_program\", \"spark_status\")\n",
    "\n",
    "val graduateProgram = Seq (\n",
    "    (0, \"Masters\", \"School of Information\", \"UC Bereley\"),\n",
    "    (2, \"Masters\", \"EECS\", \"UC Bereley\"),\n",
    "    (1, \"Ph. D\", \"EECS\", \"UC Bereley\")\n",
    ").toDF(\"id\", \"degree\", \"department\", \"school\")\n",
    "\n",
    "val sparkStatus = Seq (\n",
    "    (500, \"Vice President\") ,\n",
    "    (250, \"PMC Member\"), \n",
    "    (100, \"Contributor\")\n",
    ").toDF(\"id\", \"status\")"
   ]
  },
  {
   "cell_type": "markdown",
   "metadata": {},
   "source": [
    "### 3. 내부조인\n"
   ]
  },
  {
   "cell_type": "code",
   "execution_count": 9,
   "metadata": {},
   "outputs": [
    {
     "name": "stdout",
     "output_type": "stream",
     "text": [
      "+---+----------------+----------------+---------------+---+-------+--------------------+----------+\n",
      "| id|            name|graduate_program|   spark_status| id| degree|          department|    school|\n",
      "+---+----------------+----------------+---------------+---+-------+--------------------+----------+\n",
      "|  0|   Bill Chambers|               0|          [100]|  0|Masters|School of Informa...|UC Bereley|\n",
      "|  2|Michael Armbrust|               1|     [250, 100]|  1|  Ph. D|                EECS|UC Bereley|\n",
      "|  1|   Matei Zaharia|               1|[500, 250, 100]|  1|  Ph. D|                EECS|UC Bereley|\n",
      "+---+----------------+----------------+---------------+---+-------+--------------------+----------+\n"
     ]
    },
    {
     "data": {
      "text/plain": [
       "joinExpression = (graduate_program = id)\n",
       "wrongJoinExpression = (name = school)\n"
      ]
     },
     "metadata": {},
     "output_type": "display_data"
    },
    {
     "data": {
      "text/plain": [
       "(name = school)"
      ]
     },
     "execution_count": 9,
     "metadata": {},
     "output_type": "execute_result"
    }
   ],
   "source": [
    "val joinExpression = person.col(\"graduate_program\") === graduateProgram.col(\"id\")\n",
    "\n",
    "val wrongJoinExpression = person.col(\"name\") === graduateProgram.col(\"school\") // 두 키가 모두 존재하지 않음.\n",
    "\n",
    "person.join(graduateProgram, joinExpression).show()"
   ]
  },
  {
   "cell_type": "code",
   "execution_count": 11,
   "metadata": {},
   "outputs": [
    {
     "name": "stdout",
     "output_type": "stream",
     "text": [
      "+---+----------------+----------------+---------------+---+-------+--------------------+----------+\n",
      "| id|            name|graduate_program|   spark_status| id| degree|          department|    school|\n",
      "+---+----------------+----------------+---------------+---+-------+--------------------+----------+\n",
      "|  0|   Bill Chambers|               0|          [100]|  0|Masters|School of Informa...|UC Bereley|\n",
      "|  2|Michael Armbrust|               1|     [250, 100]|  1|  Ph. D|                EECS|UC Bereley|\n",
      "|  1|   Matei Zaharia|               1|[500, 250, 100]|  1|  Ph. D|                EECS|UC Bereley|\n",
      "+---+----------------+----------------+---------------+---+-------+--------------------+----------+\n",
      "\n"
     ]
    },
    {
     "data": {
      "text/plain": [
       "joinType = inner\n"
      ]
     },
     "metadata": {},
     "output_type": "display_data"
    },
    {
     "data": {
      "text/plain": [
       "inner"
      ]
     },
     "execution_count": 11,
     "metadata": {},
     "output_type": "execute_result"
    }
   ],
   "source": [
    "var joinType = \"inner\" //조인 타입 설정\n",
    "person.join(graduateProgram, joinExpression, joinType).show()"
   ]
  },
  {
   "cell_type": "markdown",
   "metadata": {},
   "source": [
    "### 4. 외부 조인\n",
    "왼쪽, 오른쪽 Dataframe에 일치하는 로우가 없다면 스파크는 해당 위치에 null을 삽입함."
   ]
  },
  {
   "cell_type": "code",
   "execution_count": 12,
   "metadata": {},
   "outputs": [
    {
     "name": "stdout",
     "output_type": "stream",
     "text": [
      "+----+----------------+----------------+---------------+---+-------+--------------------+----------+\n",
      "|  id|            name|graduate_program|   spark_status| id| degree|          department|    school|\n",
      "+----+----------------+----------------+---------------+---+-------+--------------------+----------+\n",
      "|   1|   Matei Zaharia|               1|[500, 250, 100]|  1|  Ph. D|                EECS|UC Bereley|\n",
      "|   2|Michael Armbrust|               1|     [250, 100]|  1|  Ph. D|                EECS|UC Bereley|\n",
      "|null|            null|            null|           null|  2|Masters|                EECS|UC Bereley|\n",
      "|   0|   Bill Chambers|               0|          [100]|  0|Masters|School of Informa...|UC Bereley|\n",
      "+----+----------------+----------------+---------------+---+-------+--------------------+----------+\n",
      "\n"
     ]
    },
    {
     "data": {
      "text/plain": [
       "joinType = outer\n"
      ]
     },
     "metadata": {},
     "output_type": "display_data"
    },
    {
     "data": {
      "text/plain": [
       "outer"
      ]
     },
     "execution_count": 12,
     "metadata": {},
     "output_type": "execute_result"
    }
   ],
   "source": [
    "joinType = \"outer\"\n",
    "person.join(graduateProgram, joinExpression, joinType).show()"
   ]
  },
  {
   "cell_type": "markdown",
   "metadata": {},
   "source": [
    "### 5. 왼쪽 외부 조인\n",
    "오른쪽 Dataframe에 일치하는 로우가 없다면 스파크는 해당 위치에 null을 삽입함."
   ]
  },
  {
   "cell_type": "code",
   "execution_count": 13,
   "metadata": {},
   "outputs": [
    {
     "name": "stdout",
     "output_type": "stream",
     "text": [
      "+---+----------------+----------------+---------------+---+-------+--------------------+----------+\n",
      "| id|            name|graduate_program|   spark_status| id| degree|          department|    school|\n",
      "+---+----------------+----------------+---------------+---+-------+--------------------+----------+\n",
      "|  0|   Bill Chambers|               0|          [100]|  0|Masters|School of Informa...|UC Bereley|\n",
      "|  1|   Matei Zaharia|               1|[500, 250, 100]|  1|  Ph. D|                EECS|UC Bereley|\n",
      "|  2|Michael Armbrust|               1|     [250, 100]|  1|  Ph. D|                EECS|UC Bereley|\n",
      "+---+----------------+----------------+---------------+---+-------+--------------------+----------+\n",
      "\n"
     ]
    },
    {
     "data": {
      "text/plain": [
       "joinType = left_outer\n"
      ]
     },
     "metadata": {},
     "output_type": "display_data"
    },
    {
     "data": {
      "text/plain": [
       "left_outer"
      ]
     },
     "execution_count": 13,
     "metadata": {},
     "output_type": "execute_result"
    }
   ],
   "source": [
    "joinType = \"left_outer\"\n",
    "person.join(graduateProgram, joinExpression, joinType).show()"
   ]
  },
  {
   "cell_type": "markdown",
   "metadata": {},
   "source": [
    "### 6. 오른쪽 외부 조인\n",
    "왼쪽 Dataframe에 일치하는 로우가 없다면 스파크는 해당 위치에 null을 삽입함."
   ]
  },
  {
   "cell_type": "code",
   "execution_count": 14,
   "metadata": {},
   "outputs": [
    {
     "name": "stdout",
     "output_type": "stream",
     "text": [
      "+----+----------------+----------------+---------------+---+-------+--------------------+----------+\n",
      "|  id|            name|graduate_program|   spark_status| id| degree|          department|    school|\n",
      "+----+----------------+----------------+---------------+---+-------+--------------------+----------+\n",
      "|   0|   Bill Chambers|               0|          [100]|  0|Masters|School of Informa...|UC Bereley|\n",
      "|null|            null|            null|           null|  2|Masters|                EECS|UC Bereley|\n",
      "|   2|Michael Armbrust|               1|     [250, 100]|  1|  Ph. D|                EECS|UC Bereley|\n",
      "|   1|   Matei Zaharia|               1|[500, 250, 100]|  1|  Ph. D|                EECS|UC Bereley|\n",
      "+----+----------------+----------------+---------------+---+-------+--------------------+----------+\n",
      "\n"
     ]
    },
    {
     "data": {
      "text/plain": [
       "joinType = right_outer\n"
      ]
     },
     "metadata": {},
     "output_type": "display_data"
    },
    {
     "data": {
      "text/plain": [
       "right_outer"
      ]
     },
     "execution_count": 14,
     "metadata": {},
     "output_type": "execute_result"
    }
   ],
   "source": [
    "joinType = \"right_outer\"\n",
    "person.join(graduateProgram, joinExpression, joinType).show()"
   ]
  },
  {
   "cell_type": "markdown",
   "metadata": {},
   "source": [
    "### 7. 왼쪽 세미 조인\n",
    "오른쪽 Dataframe의 어떤 값도 포함하지 않기 때문에 다른 조인 타입과는 약간 다르다. <br>\n",
    "단지 두번째 Dataframe은 값이 존재하는지 확인하기 위해 값만 비교하는 용도로 사용함. <br>\n",
    "기존 조인 기능과는 달리 Dataframe의 필터 정보로 볼 수 있다."
   ]
  },
  {
   "cell_type": "code",
   "execution_count": 15,
   "metadata": {},
   "outputs": [
    {
     "name": "stdout",
     "output_type": "stream",
     "text": [
      "+---+-------+--------------------+----------+\n",
      "| id| degree|          department|    school|\n",
      "+---+-------+--------------------+----------+\n",
      "|  0|Masters|School of Informa...|UC Bereley|\n",
      "|  1|  Ph. D|                EECS|UC Bereley|\n",
      "+---+-------+--------------------+----------+\n",
      "\n"
     ]
    },
    {
     "data": {
      "text/plain": [
       "joinType = left_semi\n"
      ]
     },
     "metadata": {},
     "output_type": "display_data"
    },
    {
     "data": {
      "text/plain": [
       "left_semi"
      ]
     },
     "execution_count": 15,
     "metadata": {},
     "output_type": "execute_result"
    }
   ],
   "source": [
    "joinType = \"left_semi\"\n",
    "\n",
    "graduateProgram.join(person, joinExpression, joinType).show()"
   ]
  },
  {
   "cell_type": "markdown",
   "metadata": {},
   "source": [
    "### 8. 왼쪽 안티 조인\n",
    "왼쪽 세미 조인의 반대 개념. 왼쪽 세미 조인처럼 오른쪽 Datafrmae의 어떤 값도 포함하지 않는다. <br>\n",
    "SQL의 NOT IN과 같은 스타일의 필터이다."
   ]
  },
  {
   "cell_type": "code",
   "execution_count": 16,
   "metadata": {},
   "outputs": [
    {
     "name": "stdout",
     "output_type": "stream",
     "text": [
      "+---+-------+----------+----------+\n",
      "| id| degree|department|    school|\n",
      "+---+-------+----------+----------+\n",
      "|  2|Masters|      EECS|UC Bereley|\n",
      "+---+-------+----------+----------+\n",
      "\n"
     ]
    },
    {
     "data": {
      "text/plain": [
       "joinType = left_anti\n"
      ]
     },
     "metadata": {},
     "output_type": "display_data"
    },
    {
     "data": {
      "text/plain": [
       "left_anti"
      ]
     },
     "execution_count": 16,
     "metadata": {},
     "output_type": "execute_result"
    }
   ],
   "source": [
    "joinType = \"left_anti\"\n",
    "\n",
    "graduateProgram.join(person, joinExpression, joinType).show()"
   ]
  },
  {
   "cell_type": "markdown",
   "metadata": {},
   "source": [
    "### 9. 자연 조인\n",
    "조인하려는 컬럼을 암시적으로 추정. 암시적인 추정은 부정확한 결과를 만들어낼 수 있음."
   ]
  },
  {
   "cell_type": "markdown",
   "metadata": {},
   "source": [
    "### 10. 교차 조인 (카테시안 조인)\n",
    "조건절을 기술하지 않는 내부 조인을 뜻함. 왼쪽 Datafrmae의 모든 로우를 오른쪽 Dataframe의 모든 로우와 결합함. <br>\n",
    "엄청난 수의 로우를 가진 Dataframe이 생성됨. 1000개 로우가 존재하는 두 Dataframe은 1000*1000 개의 로우가 생성됨."
   ]
  },
  {
   "cell_type": "code",
   "execution_count": 20,
   "metadata": {},
   "outputs": [
    {
     "name": "stdout",
     "output_type": "stream",
     "text": [
      "+---+-------+--------------------+----------+---+----------------+----------------+---------------+\n",
      "| id| degree|          department|    school| id|            name|graduate_program|   spark_status|\n",
      "+---+-------+--------------------+----------+---+----------------+----------------+---------------+\n",
      "|  0|Masters|School of Informa...|UC Bereley|  0|   Bill Chambers|               0|          [100]|\n",
      "|  1|  Ph. D|                EECS|UC Bereley|  2|Michael Armbrust|               1|     [250, 100]|\n",
      "|  1|  Ph. D|                EECS|UC Bereley|  1|   Matei Zaharia|               1|[500, 250, 100]|\n",
      "+---+-------+--------------------+----------+---+----------------+----------------+---------------+\n",
      "\n"
     ]
    },
    {
     "data": {
      "text/plain": [
       "joinType = cross\n"
      ]
     },
     "metadata": {},
     "output_type": "display_data"
    },
    {
     "data": {
      "text/plain": [
       "cross"
      ]
     },
     "execution_count": 20,
     "metadata": {},
     "output_type": "execute_result"
    }
   ],
   "source": [
    "joinType = \"cross\"\n",
    "\n",
    "graduateProgram.join(person, joinExpression, joinType).show() // id랑 graudate_program만 조합했음."
   ]
  },
  {
   "cell_type": "code",
   "execution_count": 18,
   "metadata": {},
   "outputs": [
    {
     "name": "stdout",
     "output_type": "stream",
     "text": [
      "+---+----------------+----------------+---------------+---+-------+--------------------+----------+\n",
      "| id|            name|graduate_program|   spark_status| id| degree|          department|    school|\n",
      "+---+----------------+----------------+---------------+---+-------+--------------------+----------+\n",
      "|  0|   Bill Chambers|               0|          [100]|  0|Masters|School of Informa...|UC Bereley|\n",
      "|  1|   Matei Zaharia|               1|[500, 250, 100]|  0|Masters|School of Informa...|UC Bereley|\n",
      "|  2|Michael Armbrust|               1|     [250, 100]|  0|Masters|School of Informa...|UC Bereley|\n",
      "|  0|   Bill Chambers|               0|          [100]|  2|Masters|                EECS|UC Bereley|\n",
      "|  1|   Matei Zaharia|               1|[500, 250, 100]|  2|Masters|                EECS|UC Bereley|\n",
      "|  2|Michael Armbrust|               1|     [250, 100]|  2|Masters|                EECS|UC Bereley|\n",
      "|  0|   Bill Chambers|               0|          [100]|  1|  Ph. D|                EECS|UC Bereley|\n",
      "|  1|   Matei Zaharia|               1|[500, 250, 100]|  1|  Ph. D|                EECS|UC Bereley|\n",
      "|  2|Michael Armbrust|               1|     [250, 100]|  1|  Ph. D|                EECS|UC Bereley|\n",
      "+---+----------------+----------------+---------------+---+-------+--------------------+----------+\n",
      "\n"
     ]
    }
   ],
   "source": [
    "person.crossJoin(graduateProgram).show()"
   ]
  },
  {
   "cell_type": "markdown",
   "metadata": {},
   "source": [
    "### 11. 조인 사용 시 문제점"
   ]
  },
  {
   "cell_type": "code",
   "execution_count": 21,
   "metadata": {},
   "outputs": [
    {
     "name": "stdout",
     "output_type": "stream",
     "text": [
      "+--------+----------------+----------------+---------------+---+--------------+\n",
      "|personId|            name|graduate_program|   spark_status| id|        status|\n",
      "+--------+----------------+----------------+---------------+---+--------------+\n",
      "|       0|   Bill Chambers|               0|          [100]|100|   Contributor|\n",
      "|       1|   Matei Zaharia|               1|[500, 250, 100]|500|Vice President|\n",
      "|       1|   Matei Zaharia|               1|[500, 250, 100]|250|    PMC Member|\n",
      "|       1|   Matei Zaharia|               1|[500, 250, 100]|100|   Contributor|\n",
      "|       2|Michael Armbrust|               1|     [250, 100]|250|    PMC Member|\n",
      "|       2|Michael Armbrust|               1|     [250, 100]|100|   Contributor|\n",
      "+--------+----------------+----------------+---------------+---+--------------+\n",
      "\n"
     ]
    }
   ],
   "source": [
    "// 복합 데이터 타입의 조인\n",
    "// sparkStatus의 id와 person의 spark_status를 알아서 매칭\n",
    "import org.apache.spark.sql.functions.expr\n",
    "\n",
    "person.withColumnRenamed(\"id\", \"personId\")\n",
    "    .join(sparkStatus, expr(\"array_contains(spark_status, id)\")).show()"
   ]
  },
  {
   "cell_type": "code",
   "execution_count": 26,
   "metadata": {},
   "outputs": [
    {
     "name": "stdout",
     "output_type": "stream",
     "text": [
      "+---+----------------+----------------+---------------+----------------+-------+--------------------+----------+\n",
      "| id|            name|graduate_program|   spark_status|graduate_program| degree|          department|    school|\n",
      "+---+----------------+----------------+---------------+----------------+-------+--------------------+----------+\n",
      "|  0|   Bill Chambers|               0|          [100]|               0|Masters|School of Informa...|UC Bereley|\n",
      "|  2|Michael Armbrust|               1|     [250, 100]|               1|  Ph. D|                EECS|UC Bereley|\n",
      "|  1|   Matei Zaharia|               1|[500, 250, 100]|               1|  Ph. D|                EECS|UC Bereley|\n",
      "+---+----------------+----------------+---------------+----------------+-------+--------------------+----------+\n",
      "\n"
     ]
    },
    {
     "data": {
      "text/plain": [
       "gradProgramDupe = [graduate_program: int, degree: string ... 2 more fields]\n",
       "joinExpr = (graduate_program = graduate_program)\n"
      ]
     },
     "metadata": {},
     "output_type": "display_data"
    },
    {
     "data": {
      "text/plain": [
       "lastException: Throwable = null\n"
      ]
     },
     "metadata": {},
     "output_type": "display_data"
    },
    {
     "data": {
      "text/plain": [
       "(graduate_program = graduate_program)"
      ]
     },
     "execution_count": 26,
     "metadata": {},
     "output_type": "execute_result"
    }
   ],
   "source": [
    "// 중복 컬럼명 처리\n",
    "// 1. 조인에 사용할 Dataframe의 특정 키가 동일한 이름을 가지며, 키가 제거되지 않도록 조인 표현식에 명시하는 경우\n",
    "// 2. 조인 대상이 아닌 두 개의 컬럼이 동일한 이름을 가진 경우\n",
    "\n",
    "// 잘못된 경우\n",
    "val gradProgramDupe = graduateProgram.withColumnRenamed(\"id\", \"graduate_program\")\n",
    "val joinExpr = gradProgramDupe.col(\"graduate_program\") === person.col(\"graduate_program\")\n",
    "\n",
    "person.join(gradProgramDupe, joinExpr).show() // 두개의 graduate_program이 존재\n",
    "\n",
    "//person.join(gradProgramDupe, joinExpr).select(\"graduate_program\").show() // 선택시 에러가 발생함."
   ]
  },
  {
   "cell_type": "code",
   "execution_count": 30,
   "metadata": {},
   "outputs": [
    {
     "name": "stdout",
     "output_type": "stream",
     "text": [
      "+----------------+\n",
      "|graduate_program|\n",
      "+----------------+\n",
      "|               0|\n",
      "|               1|\n",
      "|               1|\n",
      "+----------------+\n",
      "\n"
     ]
    }
   ],
   "source": [
    "// 1. 해결 방법: 다른 조인 표현식 사용 (자동으로 하나의 컬럼이 제거됨))\n",
    "person.join(gradProgramDupe, \"graduate_program\").select(\"graduate_program\").show()"
   ]
  },
  {
   "cell_type": "code",
   "execution_count": 29,
   "metadata": {},
   "outputs": [
    {
     "name": "stdout",
     "output_type": "stream",
     "text": [
      "+----------------+\n",
      "|graduate_program|\n",
      "+----------------+\n",
      "|               0|\n",
      "|               1|\n",
      "|               1|\n",
      "+----------------+\n",
      "\n"
     ]
    }
   ],
   "source": [
    "// 2. 해결 방법: 조인 후 컬럼 제거\n",
    "person.join(gradProgramDupe, joinExpr).drop(person.col(\"graduate_program\")).select(\"graduate_program\").show()"
   ]
  },
  {
   "cell_type": "code",
   "execution_count": 31,
   "metadata": {},
   "outputs": [
    {
     "name": "stdout",
     "output_type": "stream",
     "text": [
      "+---+----------------+----------------+---------------+-------+-------+--------------------+----------+\n",
      "| id|            name|graduate_program|   spark_status|grad_id| degree|          department|    school|\n",
      "+---+----------------+----------------+---------------+-------+-------+--------------------+----------+\n",
      "|  0|   Bill Chambers|               0|          [100]|      0|Masters|School of Informa...|UC Bereley|\n",
      "|  2|Michael Armbrust|               1|     [250, 100]|      1|  Ph. D|                EECS|UC Bereley|\n",
      "|  1|   Matei Zaharia|               1|[500, 250, 100]|      1|  Ph. D|                EECS|UC Bereley|\n",
      "+---+----------------+----------------+---------------+-------+-------+--------------------+----------+\n",
      "\n"
     ]
    },
    {
     "data": {
      "text/plain": [
       "gradProgram3 = [grad_id: int, degree: string ... 2 more fields]\n",
       "joinExpr = (graduate_program = grad_id)\n"
      ]
     },
     "metadata": {},
     "output_type": "display_data"
    },
    {
     "data": {
      "text/plain": [
       "(graduate_program = grad_id)"
      ]
     },
     "execution_count": 31,
     "metadata": {},
     "output_type": "execute_result"
    }
   ],
   "source": [
    "// 3. 해결 방법: 조인전 컬럼명 변경\n",
    "val gradProgram3 = graduateProgram.withColumnRenamed(\"id\", \"grad_id\")\n",
    "val joinExpr = person.col(\"graduate_program\") === gradProgram3.col(\"grad_id\")\n",
    "person.join(gradProgram3, joinExpr).show()"
   ]
  },
  {
   "cell_type": "markdown",
   "metadata": {},
   "source": [
    "### 12. 스파크의 조인 수행 방식\n",
    "두 가지 핵심 전략을 이해해야 한다.\n",
    "- 노드간 네트워크 통신 전략\n",
    "- 노드별 연산 전략"
   ]
  },
  {
   "cell_type": "markdown",
   "metadata": {},
   "source": [
    "### 12.1. 노드간 네트워크 통신 전략\n",
    "\n",
    "조인은 두 가지 클러스터 통신 방식을 활용한다. 전체 노드간 통신을 유발하는 **셔플 조인**과 그렇지 않으면 **브로드캐스트 조인**. <br>\n",
    "\n",
    "큰 테이블과 큰 테이블 조인 (책에 그림 참고)\n",
    "- 셔플 조인은 전체 노드간 통신이 발생하며, 많은 네트워크 자원을 사용한다.\n",
    "- 즉, 전체 조인 프로세스가 진행되는 동안 모든 워커 노트에서 통신이 발생함.\n",
    "\n",
    "큰 테이블과 작은 테이블 조인\n",
    "- 조인 연산을 최적화 할 수 있다. 브로드캐스트 조인\n",
    "- 작은 dataframe을 전체 워커 노드에 복제하는 방법. 이렇게 하면 자원을 많이 사용하는 것처럼 보이지만 조인 내 전체 노드가 통신하는 현상을 방지함.\n",
    "- 브로드캐스트 조인도 이전 방식과 마찬가지로 노드 간 통신이 발생하지만, 노드 사이에 추가적인 통신은 발생하지 않는다.\n",
    "- 단점으로는 너무 큰 데이터를 브로드캐스트 하면 고비용의 수집 연산이 발생하므로, 드라이버 노드가 비정상적으로 종료될 수 있다."
   ]
  },
  {
   "cell_type": "code",
   "execution_count": 32,
   "metadata": {},
   "outputs": [
    {
     "name": "stdout",
     "output_type": "stream",
     "text": [
      "== Physical Plan ==\n",
      "*(1) BroadcastHashJoin [graduate_program#62], [id#77], Inner, BuildLeft\n",
      ":- BroadcastExchange HashedRelationBroadcastMode(List(cast(input[2, int, false] as bigint)))\n",
      ":  +- LocalTableScan [id#60, name#61, graduate_program#62, spark_status#63]\n",
      "+- LocalTableScan [id#77, degree#78, department#79, school#80]\n"
     ]
    },
    {
     "data": {
      "text/plain": [
       "joinExpr = (graduate_program = id)\n"
      ]
     },
     "metadata": {},
     "output_type": "display_data"
    },
    {
     "data": {
      "text/plain": [
       "(graduate_program = id)"
      ]
     },
     "execution_count": 32,
     "metadata": {},
     "output_type": "execute_result"
    }
   ],
   "source": [
    "val joinExpr = person.col(\"graduate_program\") === graduateProgram.col(\"id\")\n",
    "person.join(graduateProgram, joinExpr).explain()"
   ]
  },
  {
   "cell_type": "code",
   "execution_count": 33,
   "metadata": {},
   "outputs": [
    {
     "name": "stdout",
     "output_type": "stream",
     "text": [
      "== Physical Plan ==\n",
      "*(1) BroadcastHashJoin [graduate_program#62], [id#77], Inner, BuildRight\n",
      ":- LocalTableScan [id#60, name#61, graduate_program#62, spark_status#63]\n",
      "+- BroadcastExchange HashedRelationBroadcastMode(List(cast(input[0, int, false] as bigint)))\n",
      "   +- LocalTableScan [id#77, degree#78, department#79, school#80]\n"
     ]
    },
    {
     "data": {
      "text/plain": [
       "joinExpr = (graduate_program = id)\n"
      ]
     },
     "metadata": {},
     "output_type": "display_data"
    },
    {
     "data": {
      "text/plain": [
       "(graduate_program = id)"
      ]
     },
     "execution_count": 33,
     "metadata": {},
     "output_type": "execute_result"
    }
   ],
   "source": [
    "import org.apache.spark.sql.functions.broadcast\n",
    "\n",
    "val joinExpr = person.col(\"graduate_program\") === graduateProgram.col(\"id\")\n",
    "person.join(broadcast(graduateProgram), joinExpr).explain()"
   ]
  },
  {
   "cell_type": "code",
   "execution_count": null,
   "metadata": {},
   "outputs": [],
   "source": []
  }
 ],
 "metadata": {
  "kernelspec": {
   "display_name": "Apache Toree - Scala",
   "language": "scala",
   "name": "apache_toree_scala"
  },
  "language_info": {
   "codemirror_mode": "text/x-scala",
   "file_extension": ".scala",
   "mimetype": "text/x-scala",
   "name": "scala",
   "pygments_lexer": "scala",
   "version": "2.11.12"
  }
 },
 "nbformat": 4,
 "nbformat_minor": 2
}
